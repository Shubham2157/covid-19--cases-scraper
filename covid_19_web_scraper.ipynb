{
  "nbformat": 4,
  "nbformat_minor": 0,
  "metadata": {
    "colab": {
      "name": "covid-19-web-scraper.ipynb",
      "provenance": [],
      "collapsed_sections": []
    },
    "kernelspec": {
      "name": "python3",
      "display_name": "Python 3"
    },
    "language_info": {
      "name": "python"
    }
  },
  "cells": [
    {
      "cell_type": "markdown",
      "metadata": {
        "id": "HYsOj4JewOTN"
      },
      "source": [
        "###### country code -> country\n",
        "###### 1. `us` -> United State\n",
        "###### 2. `india` -> India\n",
        "###### 3. `brazil` -> Brazil\n",
        "###### 4. `france` -> France\n",
        "###### 5. `russia` -> Russia\n",
        "###### 6. `uk` -> United Kingdom\n",
        "###### 7. `turkey` -> Turkey\n",
        "###### 8. `italy` -> Italy\n",
        "###### 9. `spain` -> Spain\n",
        "###### 10. `germany` -> Germany\n",
        "###### 11. `pakistan` ->\tPakistan\n",
        "###### 12. `bangladesh` -> Bangladesh\n",
        "###### 13. `nepal` -> Nepal\n",
        "###### 14. `sri-lanka` -> Sri Lanka\n",
        "###### 15. `china` -> China\n",
        "###### 16. `afghanistan` -> Afghanistan\n"
      ]
    },
    {
      "cell_type": "code",
      "metadata": {
        "colab": {
          "base_uri": "https://localhost:8080/"
        },
        "id": "KG8n5dV4j2ik",
        "outputId": "822fd1d8-1544-4e0c-9c9b-a5d8941e61ab"
      },
      "source": [
        "# country code -> country\n",
        "# us -> United State\n",
        "# india -> India\n",
        "# brazil -> Brazil\n",
        "# france -> France\n",
        "# russia -> Russia\n",
        "# uk -> United Kingdom\n",
        "# turkey -> Turkey\n",
        "# italy -> Italy\n",
        "# spain -> Spain\n",
        "# germany -> Germany\n",
        "# pakistan ->\tPakistan\n",
        "# bangladesh -> Bangladesh\n",
        "# nepal -> Nepal\n",
        "# sri-lanka -> Sri Lanka\n",
        "# china -> China\n",
        "# afghanistan -> Afghanistan\n",
        "\n",
        "\n",
        "con = input(\"Enter country code (Please enter a valid code otherwise it will not work) : \")\n",
        "while(con != 'india' and con != 'us' and con != 'brazil' and con != 'france' and con != 'rassia' and con != 'uk' and con != 'turkey' and con != 'france' and con != 'itly' and con != 'spain'\n",
        "and con != 'germany' and con != 'pakistan' and con != 'bangladesh' and con != 'nepal' and con != 'sri-lanka' and con != 'china' and con != 'afganistan'):\n",
        "  con = input(\"you have enter wrong country code (Please enter a valid code otherwise it will not work) : \")\n",
        "print(con)"
      ],
      "execution_count": 1,
      "outputs": [
        {
          "output_type": "stream",
          "text": [
            "Enter country code (Please enter a valid code otherwise it will not work) : india\n",
            "india\n"
          ],
          "name": "stdout"
        }
      ]
    },
    {
      "cell_type": "code",
      "metadata": {
        "id": "u4t6R2Lc1uks"
      },
      "source": [
        "# referece from https://www.dataquest.io/blog/web-scraping-python-using-beautiful-soup/\n",
        "import requests\n",
        "from bs4 import BeautifulSoup\n",
        "\n",
        "# https://www.worldometers.info/coronavirus/#countries\n",
        "\n",
        "URL = 'https://www.worldometers.info/coronavirus/country/{country}/'.format(country = con)\n",
        "page = requests.get(URL)\n",
        "\n",
        "soup = BeautifulSoup(page.content, 'html.parser')"
      ],
      "execution_count": 2,
      "outputs": []
    },
    {
      "cell_type": "code",
      "metadata": {
        "id": "g_lAVYWl2QDb"
      },
      "source": [
        "#print(soup.prettify())"
      ],
      "execution_count": 3,
      "outputs": []
    },
    {
      "cell_type": "code",
      "metadata": {
        "id": "acLFGIqwMuCv"
      },
      "source": [
        "#list(soup.children)"
      ],
      "execution_count": 4,
      "outputs": []
    },
    {
      "cell_type": "code",
      "metadata": {
        "id": "Ut5axVonNIsN"
      },
      "source": [
        "#html = list(soup.children)[9]\n",
        "#print(html)\n",
        "#list(html.children)"
      ],
      "execution_count": 5,
      "outputs": []
    },
    {
      "cell_type": "code",
      "metadata": {
        "id": "HZHGU4GXOePv"
      },
      "source": [
        "#body = list(html.children)[5]\n",
        "#print(body)\n",
        "#list(body.children)"
      ],
      "execution_count": 6,
      "outputs": []
    },
    {
      "cell_type": "code",
      "metadata": {
        "id": "aqPPlHzMO1A3"
      },
      "source": [
        "#res = list(body.children)[7]\n",
        "#list(res.children)[7]"
      ],
      "execution_count": 7,
      "outputs": []
    },
    {
      "cell_type": "code",
      "metadata": {
        "id": "h38NM0jlUbb1"
      },
      "source": [
        "#list(res.children)[9]"
      ],
      "execution_count": 8,
      "outputs": []
    },
    {
      "cell_type": "code",
      "metadata": {
        "colab": {
          "base_uri": "https://localhost:8080/"
        },
        "id": "ppt_s_hQAWfJ",
        "outputId": "15a43def-79df-4423-b594-a5554f97acd8"
      },
      "source": [
        "last_upd = soup.find(attrs={\"style\" : \"font-size:13px; color:#999; text-align:center\"})\n",
        "last_time = list(last_upd)[0].split(':')\n",
        "last_upd_time_tit = last_time[0]\n",
        "last_upd_time = last_time[1].strip() +':' + last_time[2]\n",
        "print(last_upd_time_tit)\n",
        "print(last_upd_time)"
      ],
      "execution_count": 50,
      "outputs": [
        {
          "output_type": "stream",
          "text": [
            "Last updated\n",
            "April 21, 2021, 05:44 GMT\n"
          ],
          "name": "stdout"
        }
      ]
    },
    {
      "cell_type": "code",
      "metadata": {
        "id": "iQAYkgYrUxBf"
      },
      "source": [
        "#soup.find_all('div')"
      ],
      "execution_count": 28,
      "outputs": []
    },
    {
      "cell_type": "code",
      "metadata": {
        "id": "SF7XNei1VCsS"
      },
      "source": [
        "results = soup.find_all('div', id='maincounter-wrap')\n",
        "#print(results)"
      ],
      "execution_count": 10,
      "outputs": []
    },
    {
      "cell_type": "code",
      "metadata": {
        "colab": {
          "base_uri": "https://localhost:8080/"
        },
        "id": "dpqctwO22d-N",
        "outputId": "89cb273d-f762-49ba-c5d7-41712fc45b2d"
      },
      "source": [
        "print(results[0])"
      ],
      "execution_count": 11,
      "outputs": [
        {
          "output_type": "stream",
          "text": [
            "<div id=\"maincounter-wrap\" style=\"margin-top:15px\">\n",
            "<h1>Coronavirus Cases:</h1>\n",
            "<div class=\"maincounter-number\">\n",
            "<span style=\"color:#aaa\">15,616,130 </span>\n",
            "</div>\n",
            "</div>\n"
          ],
          "name": "stdout"
        }
      ]
    },
    {
      "cell_type": "code",
      "metadata": {
        "id": "fTCBHC87ZTjL"
      },
      "source": [
        "cor_cas1 = list(list(results[0])[1])[0].strip(':')\n",
        "cor_cas = cor_cas1.split()[1]\n",
        "\n",
        "cor_cas_data = list(list(list(results[0])[3])[1])[0].strip()"
      ],
      "execution_count": 12,
      "outputs": []
    },
    {
      "cell_type": "code",
      "metadata": {
        "colab": {
          "base_uri": "https://localhost:8080/"
        },
        "id": "SbvgFrVyWmiS",
        "outputId": "9fbd2e41-65c3-4872-907d-b8ed1eac3af3"
      },
      "source": [
        "print(results[1])"
      ],
      "execution_count": 13,
      "outputs": [
        {
          "output_type": "stream",
          "text": [
            "<div id=\"maincounter-wrap\" style=\"margin-top:15px\">\n",
            "<h1>Deaths:</h1>\n",
            "<div class=\"maincounter-number\">\n",
            "<span>182,570</span>\n",
            "</div>\n",
            "</div>\n"
          ],
          "name": "stdout"
        }
      ]
    },
    {
      "cell_type": "code",
      "metadata": {
        "id": "d6QbysxLcyrb"
      },
      "source": [
        "det_tit = list(list(results[1])[1])[0].strip(':')\n",
        "det_data = list(list(list(results[1])[3])[1])[0]"
      ],
      "execution_count": 14,
      "outputs": []
    },
    {
      "cell_type": "code",
      "metadata": {
        "colab": {
          "base_uri": "https://localhost:8080/"
        },
        "id": "ZHeyv0WnWro3",
        "outputId": "8e1f9bf6-75b1-4d5e-8e8a-0fc39f70e73e"
      },
      "source": [
        "rec = list(results[2])\n",
        "print(rec)"
      ],
      "execution_count": 15,
      "outputs": [
        {
          "output_type": "stream",
          "text": [
            "['\\n', <h1>Recovered:</h1>, '\\n', <div class=\"maincounter-number\" style=\"color:#8ACA2B \">\n",
            "<span>13,276,039</span>\n",
            "</div>, '\\n']\n"
          ],
          "name": "stdout"
        }
      ]
    },
    {
      "cell_type": "code",
      "metadata": {
        "id": "Z53vXzqWX8ek"
      },
      "source": [
        "rec_title = list(rec[1])[0].strip(':')\n",
        "#print(rec_title)"
      ],
      "execution_count": 16,
      "outputs": []
    },
    {
      "cell_type": "code",
      "metadata": {
        "id": "w_yg84RBXMcL"
      },
      "source": [
        "rec_data = list(list(rec[3])[1])[0]\n",
        "#print(rec_data)"
      ],
      "execution_count": 17,
      "outputs": []
    },
    {
      "cell_type": "code",
      "metadata": {
        "colab": {
          "base_uri": "https://localhost:8080/"
        },
        "id": "6-igt44pZCWm",
        "outputId": "9bcd6ca7-a85b-48aa-f5d9-a7dcf06be6b2"
      },
      "source": [
        "data = { cor_cas: cor_cas_data, rec_title: rec_data, det_tit: det_data , last_upd_time_tit: last_upd_time  }\n",
        "print(data)"
      ],
      "execution_count": 51,
      "outputs": [
        {
          "output_type": "stream",
          "text": [
            "{'Cases': '15,616,130', 'Recovered': '13,276,039', 'Deaths': '182,570', 'Last updated': 'April 21, 2021, 05:44 GMT'}\n"
          ],
          "name": "stdout"
        }
      ]
    },
    {
      "cell_type": "code",
      "metadata": {
        "colab": {
          "base_uri": "https://localhost:8080/"
        },
        "id": "u6TrttRsgawk",
        "outputId": "a6a256d1-86f4-4081-e918-92da28ffdc37"
      },
      "source": [
        "import json\n",
        "# this will return json string\n",
        "json_object = json.dumps(data)\n",
        "# this will return dict\n",
        "json_object_dic = json.loads(json_object)\n",
        "print(json_object) "
      ],
      "execution_count": 52,
      "outputs": [
        {
          "output_type": "stream",
          "text": [
            "{\"Cases\": \"15,616,130\", \"Recovered\": \"13,276,039\", \"Deaths\": \"182,570\", \"Last updated\": \"April 21, 2021, 05:44 GMT\"}\n"
          ],
          "name": "stdout"
        }
      ]
    },
    {
      "cell_type": "code",
      "metadata": {
        "colab": {
          "base_uri": "https://localhost:8080/"
        },
        "id": "9jNhTkP9goRq",
        "outputId": "eeda7b2a-5011-4a3b-9974-8db8ac927132"
      },
      "source": [
        "type(json_object)"
      ],
      "execution_count": 20,
      "outputs": [
        {
          "output_type": "execute_result",
          "data": {
            "text/plain": [
              "str"
            ]
          },
          "metadata": {
            "tags": []
          },
          "execution_count": 20
        }
      ]
    },
    {
      "cell_type": "code",
      "metadata": {
        "id": "MsLhkj_arq35"
      },
      "source": [
        "import pandas as pd\n",
        "dct = {k:[v] for k,v in json_object_dic.items()}  # WORKAROUND\n",
        "df = pd.DataFrame(dct)"
      ],
      "execution_count": 53,
      "outputs": []
    },
    {
      "cell_type": "code",
      "metadata": {
        "colab": {
          "base_uri": "https://localhost:8080/",
          "height": 77
        },
        "id": "Z5pIaIB_tJnp",
        "outputId": "543f3173-5d0b-4d06-f7e9-eb98450762a2"
      },
      "source": [
        "df.head()"
      ],
      "execution_count": 54,
      "outputs": [
        {
          "output_type": "execute_result",
          "data": {
            "text/html": [
              "<div>\n",
              "<style scoped>\n",
              "    .dataframe tbody tr th:only-of-type {\n",
              "        vertical-align: middle;\n",
              "    }\n",
              "\n",
              "    .dataframe tbody tr th {\n",
              "        vertical-align: top;\n",
              "    }\n",
              "\n",
              "    .dataframe thead th {\n",
              "        text-align: right;\n",
              "    }\n",
              "</style>\n",
              "<table border=\"1\" class=\"dataframe\">\n",
              "  <thead>\n",
              "    <tr style=\"text-align: right;\">\n",
              "      <th></th>\n",
              "      <th>Cases</th>\n",
              "      <th>Recovered</th>\n",
              "      <th>Deaths</th>\n",
              "      <th>Last updated</th>\n",
              "    </tr>\n",
              "  </thead>\n",
              "  <tbody>\n",
              "    <tr>\n",
              "      <th>0</th>\n",
              "      <td>15,616,130</td>\n",
              "      <td>13,276,039</td>\n",
              "      <td>182,570</td>\n",
              "      <td>April 21, 2021, 05:44 GMT</td>\n",
              "    </tr>\n",
              "  </tbody>\n",
              "</table>\n",
              "</div>"
            ],
            "text/plain": [
              "        Cases   Recovered   Deaths               Last updated\n",
              "0  15,616,130  13,276,039  182,570  April 21, 2021, 05:44 GMT"
            ]
          },
          "metadata": {
            "tags": []
          },
          "execution_count": 54
        }
      ]
    },
    {
      "cell_type": "code",
      "metadata": {
        "colab": {
          "base_uri": "https://localhost:8080/",
          "height": 52
        },
        "id": "oqB5lbbBu6yJ",
        "outputId": "82673b44-7588-4917-c3a7-472e026ea6cb"
      },
      "source": [
        "df.to_html()"
      ],
      "execution_count": 23,
      "outputs": [
        {
          "output_type": "execute_result",
          "data": {
            "application/vnd.google.colaboratory.intrinsic+json": {
              "type": "string"
            },
            "text/plain": [
              "'<table border=\"1\" class=\"dataframe\">\\n  <thead>\\n    <tr style=\"text-align: right;\">\\n      <th></th>\\n      <th>Cases</th>\\n      <th>Recovered</th>\\n      <th>Deaths</th>\\n    </tr>\\n  </thead>\\n  <tbody>\\n    <tr>\\n      <th>0</th>\\n      <td>15,616,130</td>\\n      <td>13,276,039</td>\\n      <td>182,570</td>\\n    </tr>\\n  </tbody>\\n</table>'"
            ]
          },
          "metadata": {
            "tags": []
          },
          "execution_count": 23
        }
      ]
    },
    {
      "cell_type": "markdown",
      "metadata": {
        "id": "uCS8UDRzyNbQ"
      },
      "source": [
        "\n",
        "> **Final report**\n",
        "\n"
      ]
    },
    {
      "cell_type": "code",
      "metadata": {
        "colab": {
          "base_uri": "https://localhost:8080/",
          "height": 77
        },
        "id": "ebo0GAcBvIVv",
        "outputId": "91e6742c-1adc-420e-c1b4-c09aa4eadd81"
      },
      "source": [
        "from IPython.display import display, HTML\n",
        "\n",
        "display(HTML(df.to_html()))"
      ],
      "execution_count": 55,
      "outputs": [
        {
          "output_type": "display_data",
          "data": {
            "text/html": [
              "<table border=\"1\" class=\"dataframe\">\n",
              "  <thead>\n",
              "    <tr style=\"text-align: right;\">\n",
              "      <th></th>\n",
              "      <th>Cases</th>\n",
              "      <th>Recovered</th>\n",
              "      <th>Deaths</th>\n",
              "      <th>Last updated</th>\n",
              "    </tr>\n",
              "  </thead>\n",
              "  <tbody>\n",
              "    <tr>\n",
              "      <th>0</th>\n",
              "      <td>15,616,130</td>\n",
              "      <td>13,276,039</td>\n",
              "      <td>182,570</td>\n",
              "      <td>April 21, 2021, 05:44 GMT</td>\n",
              "    </tr>\n",
              "  </tbody>\n",
              "</table>"
            ],
            "text/plain": [
              "<IPython.core.display.HTML object>"
            ]
          },
          "metadata": {
            "tags": []
          }
        }
      ]
    }
  ]
}