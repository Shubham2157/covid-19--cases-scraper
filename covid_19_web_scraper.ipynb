{
  "nbformat": 4,
  "nbformat_minor": 0,
  "metadata": {
    "colab": {
      "name": "Copy of covid-19-web-scraper.ipynb",
      "provenance": [],
      "collapsed_sections": [],
      "toc_visible": true
    },
    "kernelspec": {
      "name": "python3",
      "display_name": "Python 3"
    },
    "language_info": {
      "name": "python"
    }
  },
  "cells": [
    {
      "cell_type": "markdown",
      "metadata": {
        "id": "HYsOj4JewOTN"
      },
      "source": [
        "###### country code -> country\n",
        "###### 1. `us` -> United State\n",
        "###### 2. `india` -> India\n",
        "###### 3. `brazil` -> Brazil\n",
        "###### 4. `france` -> France\n",
        "###### 5. `russia` -> Russia\n",
        "###### 6. `uk` -> United Kingdom\n",
        "###### 7. `turkey` -> Turkey\n",
        "###### 8. `italy` -> Italy\n",
        "###### 9. `spain` -> Spain\n",
        "###### 10. `germany` -> Germany\n",
        "###### 11. `pakistan` ->\tPakistan\n",
        "###### 12. `bangladesh` -> Bangladesh\n",
        "###### 13. `nepal` -> Nepal\n",
        "###### 14. `sri-lanka` -> Sri Lanka\n",
        "###### 15. `china` -> China\n",
        "###### 16. `afghanistan` -> Afghanistan\n"
      ]
    },
    {
      "cell_type": "code",
      "metadata": {
        "colab": {
          "base_uri": "https://localhost:8080/"
        },
        "id": "KG8n5dV4j2ik",
        "outputId": "118f9edb-64bd-424f-fc86-0beee88183e3"
      },
      "source": [
        "# country code -> country\n",
        "# us -> United State\n",
        "# india -> India\n",
        "# brazil -> Brazil\n",
        "# france -> France\n",
        "# russia -> Russia\n",
        "# uk -> United Kingdom\n",
        "# turkey -> Turkey\n",
        "# italy -> Italy\n",
        "# spain -> Spain\n",
        "# germany -> Germany\n",
        "# pakistan ->\tPakistan\n",
        "# bangladesh -> Bangladesh\n",
        "# nepal -> Nepal\n",
        "# sri-lanka -> Sri Lanka\n",
        "# china -> China\n",
        "# afghanistan -> Afghanistan\n",
        "\n",
        "\n",
        "con = input(\"Enter country code (Please enter a valid code otherwise it will not work) : \")\n",
        "while(con != 'india' and con != 'us' and con != 'brazil' and con != 'france' and con != 'rassia' and con != 'uk' and con != 'turkey' and con != 'france' and con != 'itly' and con != 'spain'\n",
        "and con != 'germany' and con != 'pakistan' and con != 'bangladesh' and con != 'nepal' and con != 'sri-lanka' and con != 'china' and con != 'afganistan'):\n",
        "  con = input(\"you have enter wrong country code (Please enter a valid code otherwise it will not work) : \")\n",
        "print(con)"
      ],
      "execution_count": 1,
      "outputs": [
        {
          "output_type": "stream",
          "text": [
            "Enter country code (Please enter a valid code otherwise it will not work) : brazil\n",
            "brazil\n"
          ],
          "name": "stdout"
        }
      ]
    },
    {
      "cell_type": "code",
      "metadata": {
        "id": "u4t6R2Lc1uks"
      },
      "source": [
        "# referece from https://www.dataquest.io/blog/web-scraping-python-using-beautiful-soup/\n",
        "import requests\n",
        "from bs4 import BeautifulSoup\n",
        "\n",
        "# https://www.worldometers.info/coronavirus/#countries\n",
        "\n",
        "URL = 'https://www.worldometers.info/coronavirus/country/{country}/'.format(country = con)\n",
        "page = requests.get(URL)\n",
        "\n",
        "soup = BeautifulSoup(page.content, 'html.parser')"
      ],
      "execution_count": 2,
      "outputs": []
    },
    {
      "cell_type": "code",
      "metadata": {
        "id": "g_lAVYWl2QDb"
      },
      "source": [
        "#print(soup.prettify())"
      ],
      "execution_count": 3,
      "outputs": []
    },
    {
      "cell_type": "code",
      "metadata": {
        "id": "acLFGIqwMuCv"
      },
      "source": [
        "#list(soup.children)"
      ],
      "execution_count": 4,
      "outputs": []
    },
    {
      "cell_type": "code",
      "metadata": {
        "id": "Ut5axVonNIsN"
      },
      "source": [
        "#html = list(soup.children)[9]\n",
        "#print(html)\n",
        "#list(html.children)"
      ],
      "execution_count": 5,
      "outputs": []
    },
    {
      "cell_type": "code",
      "metadata": {
        "id": "HZHGU4GXOePv"
      },
      "source": [
        "#body = list(html.children)[5]\n",
        "#print(body)\n",
        "#list(body.children)"
      ],
      "execution_count": 6,
      "outputs": []
    },
    {
      "cell_type": "code",
      "metadata": {
        "id": "aqPPlHzMO1A3"
      },
      "source": [
        "#res = list(body.children)[7]\n",
        "#list(res.children)[7]"
      ],
      "execution_count": 7,
      "outputs": []
    },
    {
      "cell_type": "code",
      "metadata": {
        "id": "h38NM0jlUbb1"
      },
      "source": [
        "#list(res.children)[9]"
      ],
      "execution_count": 8,
      "outputs": []
    },
    {
      "cell_type": "code",
      "metadata": {
        "id": "ppt_s_hQAWfJ",
        "colab": {
          "base_uri": "https://localhost:8080/"
        },
        "outputId": "63267d6b-1f44-4c2a-a65c-5eca7c23e972"
      },
      "source": [
        "last_upd = soup.find(attrs={\"style\" : \"font-size:13px; color:#999; text-align:center\"})\n",
        "last_time = list(last_upd)[0].split(':')\n",
        "last_upd_time_tit = last_time[0]\n",
        "last_upd_time = last_time[1].strip() +':' + last_time[2]\n",
        "print(last_upd_time_tit)\n",
        "print(last_upd_time)"
      ],
      "execution_count": 9,
      "outputs": [
        {
          "output_type": "stream",
          "text": [
            "Last updated\n",
            "April 21, 2021, 06:27 GMT\n"
          ],
          "name": "stdout"
        }
      ]
    },
    {
      "cell_type": "code",
      "metadata": {
        "id": "iQAYkgYrUxBf"
      },
      "source": [
        "#soup.find_all('div')"
      ],
      "execution_count": 10,
      "outputs": []
    },
    {
      "cell_type": "code",
      "metadata": {
        "id": "SF7XNei1VCsS"
      },
      "source": [
        "results = soup.find_all('div', id='maincounter-wrap')\n",
        "#print(results)"
      ],
      "execution_count": 11,
      "outputs": []
    },
    {
      "cell_type": "code",
      "metadata": {
        "colab": {
          "base_uri": "https://localhost:8080/"
        },
        "id": "dpqctwO22d-N",
        "outputId": "af667e39-bc92-456c-a023-2d7d9ea5b03d"
      },
      "source": [
        "print(results[0])"
      ],
      "execution_count": 12,
      "outputs": [
        {
          "output_type": "stream",
          "text": [
            "<div id=\"maincounter-wrap\" style=\"margin-top:15px\">\n",
            "<h1>Coronavirus Cases:</h1>\n",
            "<div class=\"maincounter-number\">\n",
            "<span style=\"color:#aaa\">14,050,885 </span>\n",
            "</div>\n",
            "</div>\n"
          ],
          "name": "stdout"
        }
      ]
    },
    {
      "cell_type": "code",
      "metadata": {
        "id": "fTCBHC87ZTjL"
      },
      "source": [
        "cor_cas1 = list(list(results[0])[1])[0].strip(':')\n",
        "cor_cas = cor_cas1.split()[1]\n",
        "\n",
        "cor_cas_data = list(list(list(results[0])[3])[1])[0].strip()"
      ],
      "execution_count": 13,
      "outputs": []
    },
    {
      "cell_type": "code",
      "metadata": {
        "colab": {
          "base_uri": "https://localhost:8080/"
        },
        "id": "SbvgFrVyWmiS",
        "outputId": "e93d3305-8dcd-47d2-e955-a7bdd9547aa3"
      },
      "source": [
        "print(results[1])"
      ],
      "execution_count": 14,
      "outputs": [
        {
          "output_type": "stream",
          "text": [
            "<div id=\"maincounter-wrap\" style=\"margin-top:15px\">\n",
            "<h1>Deaths:</h1>\n",
            "<div class=\"maincounter-number\">\n",
            "<span>378,530</span>\n",
            "</div>\n",
            "</div>\n"
          ],
          "name": "stdout"
        }
      ]
    },
    {
      "cell_type": "code",
      "metadata": {
        "id": "d6QbysxLcyrb"
      },
      "source": [
        "det_tit = list(list(results[1])[1])[0].strip(':')\n",
        "det_data = list(list(list(results[1])[3])[1])[0]"
      ],
      "execution_count": 15,
      "outputs": []
    },
    {
      "cell_type": "code",
      "metadata": {
        "colab": {
          "base_uri": "https://localhost:8080/"
        },
        "id": "ZHeyv0WnWro3",
        "outputId": "5273cb8b-c836-44ff-fdbf-810b639d033b"
      },
      "source": [
        "rec = list(results[2])\n",
        "print(rec)"
      ],
      "execution_count": 16,
      "outputs": [
        {
          "output_type": "stream",
          "text": [
            "['\\n', <h1>Recovered:</h1>, '\\n', <div class=\"maincounter-number\" style=\"color:#8ACA2B \">\n",
            "<span>12,561,689</span>\n",
            "</div>, '\\n']\n"
          ],
          "name": "stdout"
        }
      ]
    },
    {
      "cell_type": "code",
      "metadata": {
        "id": "Z53vXzqWX8ek"
      },
      "source": [
        "rec_title = list(rec[1])[0].strip(':')\n",
        "#print(rec_title)"
      ],
      "execution_count": 17,
      "outputs": []
    },
    {
      "cell_type": "code",
      "metadata": {
        "id": "w_yg84RBXMcL"
      },
      "source": [
        "rec_data = list(list(rec[3])[1])[0]\n",
        "#print(rec_data)"
      ],
      "execution_count": 18,
      "outputs": []
    },
    {
      "cell_type": "code",
      "metadata": {
        "colab": {
          "base_uri": "https://localhost:8080/"
        },
        "id": "6-igt44pZCWm",
        "outputId": "ebb9162c-4661-4bc4-a9ae-b26d1b7e9265"
      },
      "source": [
        "data = { cor_cas: cor_cas_data, rec_title: rec_data, det_tit: det_data , last_upd_time_tit: last_upd_time  }\n",
        "print(data)"
      ],
      "execution_count": 19,
      "outputs": [
        {
          "output_type": "stream",
          "text": [
            "{'Cases': '14,050,885', 'Recovered': '12,561,689', 'Deaths': '378,530', 'Last updated': 'April 21, 2021, 06:27 GMT'}\n"
          ],
          "name": "stdout"
        }
      ]
    },
    {
      "cell_type": "code",
      "metadata": {
        "colab": {
          "base_uri": "https://localhost:8080/"
        },
        "id": "u6TrttRsgawk",
        "outputId": "351a9c9b-ed5f-4a42-b421-d7e50f28b7cc"
      },
      "source": [
        "import json\n",
        "# this will return json string\n",
        "json_object = json.dumps(data)\n",
        "# this will return dict\n",
        "json_object_dic = json.loads(json_object)\n",
        "print(json_object) "
      ],
      "execution_count": 20,
      "outputs": [
        {
          "output_type": "stream",
          "text": [
            "{\"Cases\": \"14,050,885\", \"Recovered\": \"12,561,689\", \"Deaths\": \"378,530\", \"Last updated\": \"April 21, 2021, 06:27 GMT\"}\n"
          ],
          "name": "stdout"
        }
      ]
    },
    {
      "cell_type": "code",
      "metadata": {
        "id": "na0FgoxVFpyQ"
      },
      "source": [
        "json_obj = {}\n",
        "json_obj[con] = []\n",
        "json_obj[con].append(data)\n",
        "#Write the object to file.\n",
        "with open('covid_{coun}_{last}.json'.format(last = last_upd_time, coun = con),'w') as jsonFile:\n",
        "    json.dump(json_obj, jsonFile)"
      ],
      "execution_count": 21,
      "outputs": []
    },
    {
      "cell_type": "code",
      "metadata": {
        "colab": {
          "base_uri": "https://localhost:8080/",
          "height": 34
        },
        "id": "Rp1zfIycGXVB",
        "outputId": "af187bfc-9caa-4df0-cde8-0dee0b8ac87e"
      },
      "source": [
        "from google.colab.output import eval_js\n",
        "print(eval_js(\"google.colab.kernel.proxyPort(8000)\"))\n",
        "# https://z4spb7cvssd-496ff2e9c6d22116-8000-colab.googleusercontent.com/"
      ],
      "execution_count": 22,
      "outputs": [
        {
          "output_type": "stream",
          "text": [
            "https://v7yp01jlcv-496ff2e9c6d22116-8000-colab.googleusercontent.com/\n"
          ],
          "name": "stdout"
        }
      ]
    },
    {
      "cell_type": "code",
      "metadata": {
        "colab": {
          "base_uri": "https://localhost:8080/"
        },
        "id": "9jNhTkP9goRq",
        "outputId": "8460d2cc-63e3-4a90-cf54-ffb7fd24b3fe"
      },
      "source": [
        "type(json_object)"
      ],
      "execution_count": 24,
      "outputs": [
        {
          "output_type": "execute_result",
          "data": {
            "text/plain": [
              "str"
            ]
          },
          "metadata": {
            "tags": []
          },
          "execution_count": 24
        }
      ]
    },
    {
      "cell_type": "code",
      "metadata": {
        "id": "MsLhkj_arq35"
      },
      "source": [
        "import pandas as pd\n",
        "dct = {k:[v] for k,v in json_object_dic.items()}  # WORKAROUND\n",
        "df = pd.DataFrame(dct)"
      ],
      "execution_count": 25,
      "outputs": []
    },
    {
      "cell_type": "code",
      "metadata": {
        "colab": {
          "base_uri": "https://localhost:8080/",
          "height": 77
        },
        "id": "Z5pIaIB_tJnp",
        "outputId": "49947320-ca0d-488f-cef3-b0bca9367f05"
      },
      "source": [
        "df.head()"
      ],
      "execution_count": 26,
      "outputs": [
        {
          "output_type": "execute_result",
          "data": {
            "text/html": [
              "<div>\n",
              "<style scoped>\n",
              "    .dataframe tbody tr th:only-of-type {\n",
              "        vertical-align: middle;\n",
              "    }\n",
              "\n",
              "    .dataframe tbody tr th {\n",
              "        vertical-align: top;\n",
              "    }\n",
              "\n",
              "    .dataframe thead th {\n",
              "        text-align: right;\n",
              "    }\n",
              "</style>\n",
              "<table border=\"1\" class=\"dataframe\">\n",
              "  <thead>\n",
              "    <tr style=\"text-align: right;\">\n",
              "      <th></th>\n",
              "      <th>Cases</th>\n",
              "      <th>Recovered</th>\n",
              "      <th>Deaths</th>\n",
              "      <th>Last updated</th>\n",
              "    </tr>\n",
              "  </thead>\n",
              "  <tbody>\n",
              "    <tr>\n",
              "      <th>0</th>\n",
              "      <td>14,050,885</td>\n",
              "      <td>12,561,689</td>\n",
              "      <td>378,530</td>\n",
              "      <td>April 21, 2021, 06:27 GMT</td>\n",
              "    </tr>\n",
              "  </tbody>\n",
              "</table>\n",
              "</div>"
            ],
            "text/plain": [
              "        Cases   Recovered   Deaths               Last updated\n",
              "0  14,050,885  12,561,689  378,530  April 21, 2021, 06:27 GMT"
            ]
          },
          "metadata": {
            "tags": []
          },
          "execution_count": 26
        }
      ]
    },
    {
      "cell_type": "code",
      "metadata": {
        "colab": {
          "base_uri": "https://localhost:8080/",
          "height": 69
        },
        "id": "oqB5lbbBu6yJ",
        "outputId": "c8892b79-c01e-477c-9364-3cc59629618d"
      },
      "source": [
        "df.to_html()"
      ],
      "execution_count": 27,
      "outputs": [
        {
          "output_type": "execute_result",
          "data": {
            "application/vnd.google.colaboratory.intrinsic+json": {
              "type": "string"
            },
            "text/plain": [
              "'<table border=\"1\" class=\"dataframe\">\\n  <thead>\\n    <tr style=\"text-align: right;\">\\n      <th></th>\\n      <th>Cases</th>\\n      <th>Recovered</th>\\n      <th>Deaths</th>\\n      <th>Last updated</th>\\n    </tr>\\n  </thead>\\n  <tbody>\\n    <tr>\\n      <th>0</th>\\n      <td>14,050,885</td>\\n      <td>12,561,689</td>\\n      <td>378,530</td>\\n      <td>April 21, 2021, 06:27 GMT</td>\\n    </tr>\\n  </tbody>\\n</table>'"
            ]
          },
          "metadata": {
            "tags": []
          },
          "execution_count": 27
        }
      ]
    },
    {
      "cell_type": "markdown",
      "metadata": {
        "id": "uCS8UDRzyNbQ"
      },
      "source": [
        "\n",
        "> **Final report**\n",
        "\n"
      ]
    },
    {
      "cell_type": "code",
      "metadata": {
        "colab": {
          "base_uri": "https://localhost:8080/",
          "height": 77
        },
        "id": "ebo0GAcBvIVv",
        "outputId": "863e4772-1a2f-450f-c354-8bfd837df2e0"
      },
      "source": [
        "from IPython.display import display, HTML\n",
        "\n",
        "display(HTML(df.to_html()))"
      ],
      "execution_count": 28,
      "outputs": [
        {
          "output_type": "display_data",
          "data": {
            "text/html": [
              "<table border=\"1\" class=\"dataframe\">\n",
              "  <thead>\n",
              "    <tr style=\"text-align: right;\">\n",
              "      <th></th>\n",
              "      <th>Cases</th>\n",
              "      <th>Recovered</th>\n",
              "      <th>Deaths</th>\n",
              "      <th>Last updated</th>\n",
              "    </tr>\n",
              "  </thead>\n",
              "  <tbody>\n",
              "    <tr>\n",
              "      <th>0</th>\n",
              "      <td>14,050,885</td>\n",
              "      <td>12,561,689</td>\n",
              "      <td>378,530</td>\n",
              "      <td>April 21, 2021, 06:27 GMT</td>\n",
              "    </tr>\n",
              "  </tbody>\n",
              "</table>"
            ],
            "text/plain": [
              "<IPython.core.display.HTML object>"
            ]
          },
          "metadata": {
            "tags": []
          }
        }
      ]
    },
    {
      "cell_type": "code",
      "metadata": {
        "colab": {
          "base_uri": "https://localhost:8080/"
        },
        "id": "kEPAq-rIJ443",
        "outputId": "241b6d2b-4552-4b4b-9f67-5153fa14525e"
      },
      "source": [
        "!python -m http.server 8000"
      ],
      "execution_count": null,
      "outputs": [
        {
          "output_type": "stream",
          "text": [
            "Serving HTTP on 0.0.0.0 port 8000 (http://0.0.0.0:8000/) ...\n",
            "127.0.0.1 - - [21/Apr/2021 06:39:31] \"GET /covid_brazil_April%2021%2C%202021%2C%2006%3A27%20GMT.json HTTP/1.1\" 200 -\n",
            "127.0.0.1 - - [21/Apr/2021 06:39:32] code 404, message File not found\n",
            "127.0.0.1 - - [21/Apr/2021 06:39:32] \"GET /favicon.ico HTTP/1.1\" 404 -\n",
            "127.0.0.1 - - [21/Apr/2021 06:40:04] \"GET / HTTP/1.1\" 200 -\n",
            "127.0.0.1 - - [21/Apr/2021 06:40:06] code 404, message File not found\n",
            "127.0.0.1 - - [21/Apr/2021 06:40:06] \"GET /favicon.ico HTTP/1.1\" 404 -\n"
          ],
          "name": "stdout"
        }
      ]
    }
  ]
}